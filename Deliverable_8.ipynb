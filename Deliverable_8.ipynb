{
  "nbformat": 4,
  "nbformat_minor": 0,
  "metadata": {
    "colab": {
      "provenance": [],
      "authorship_tag": "ABX9TyPfqOBuWZEggSBUoe6ZoIlJ",
      "include_colab_link": true
    },
    "kernelspec": {
      "name": "python3",
      "display_name": "Python 3"
    },
    "language_info": {
      "name": "python"
    }
  },
  "cells": [
    {
      "cell_type": "markdown",
      "metadata": {
        "id": "view-in-github",
        "colab_type": "text"
      },
      "source": [
        "<a href=\"https://colab.research.google.com/github/mariadelcar18/Deliverable_8/blob/main/Deliverable_8.ipynb\" target=\"_parent\"><img src=\"https://colab.research.google.com/assets/colab-badge.svg\" alt=\"Open In Colab\"/></a>"
      ]
    },
    {
      "cell_type": "code",
      "execution_count": 5,
      "metadata": {
        "id": "dsi1dlZEqNCE"
      },
      "outputs": [],
      "source": [
        "import numpy as np"
      ]
    },
    {
      "cell_type": "code",
      "source": [
        "# Creating Method 1\n",
        "def random_list(size):\n",
        "  list = []\n",
        "  for i in range(size): \n",
        "    list.append(np.random.randint(10,50))\n",
        "  return list \n",
        "\n",
        "# Creating Method 2\n",
        "def sum_random(list): \n",
        "  sum = 0\n",
        "  for i in range(len(list)):\n",
        "    sum = sum + list[i]\n",
        "  return sum"
      ],
      "metadata": {
        "id": "pJJHWVSErws6"
      },
      "execution_count": 6,
      "outputs": []
    },
    {
      "cell_type": "code",
      "source": [
        "# Requesting user input \n",
        "n = int(input(\"Please enter an integer between 5 and 15: \"))\n",
        "\n",
        "if n>=5 and n<=15:\n",
        "  MyList = random_list(n)\n",
        "  MySum = sum_random(MyList)\n",
        "\n",
        "  print(\"The elements of the arrays are: \", MyList)\n",
        "  print(\"The sum is: \", MySum)\n",
        "\n",
        "else: \n",
        "  print(\"You cannot enter this number. Please try again.\")\n",
        "\n",
        "\n",
        "\n"
      ],
      "metadata": {
        "id": "vOI7NaCRsv37",
        "colab": {
          "base_uri": "https://localhost:8080/"
        },
        "outputId": "0e298986-849b-4eeb-97e4-abd69c2438eb"
      },
      "execution_count": 13,
      "outputs": [
        {
          "output_type": "stream",
          "name": "stdout",
          "text": [
            "Please enter an integer between 5 and 15: 5\n",
            "The elements of the arrays are:  [19, 45, 11, 26, 46]\n",
            "The sum is:  147\n"
          ]
        }
      ]
    }
  ]
}